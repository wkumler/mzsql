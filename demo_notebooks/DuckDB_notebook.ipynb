{
 "cells": [
  {
   "cell_type": "code",
   "execution_count": 1,
   "id": "bc9f27d2-036e-4269-acef-284a918bac73",
   "metadata": {},
   "outputs": [],
   "source": [
    "import matplotlib.pyplot as plt\n",
    "plt.rcParams[\"figure.figsize\"] = (10, 3)  # (width, height) in inches\n",
    "from mzsql import *"
   ]
  },
  {
   "cell_type": "markdown",
   "id": "37a226e3-b156-453c-ad9b-ae0ce83b14e2",
   "metadata": {},
   "source": [
    "## Create DuckDB for querying\n",
    "\n",
    "Initially ignore indexing/organizing and just write as in MS file"
   ]
  },
  {
   "cell_type": "code",
   "execution_count": null,
   "id": "8551e156-8df9-4ca0-8efd-f80196acecfd",
   "metadata": {},
   "outputs": [
    {
     "name": "stdout",
     "output_type": "stream",
     "text": [
      "2024-11-19 16:27:22.417314\n"
     ]
    },
    {
     "name": "stderr",
     "output_type": "stream",
     "text": [
      "/home/wkumler/mzsql/src/mzsql/duckdb_functions.py:39: UserWarning: pandas only supports SQLAlchemy connectable (engine/connection) or database string URI or sqlite3 DBAPI2 connection. Other DBAPI2 objects are not tested. Please consider using SQLAlchemy.\n",
      "  all_pds.to_sql(\"MS1\", conn, if_exists=\"append\", index=False)\n"
     ]
    }
   ],
   "source": [
    "import datetime\n",
    "print(datetime.datetime.now()) # Was VERY slow the first time I tried to render this??\n",
    "turn_mzml_duckdb(\"../demo_data/180205_Poo_TruePoo_Full1.mzML\", \n",
    "                 \"../demo_data/180205_Poo_TruePoo_Full1.duckdb\")\n",
    "print(datetime.datetime.now())"
   ]
  },
  {
   "cell_type": "markdown",
   "id": "8646b0d0-35a1-4dc2-a4bb-cb9e0c7e882e",
   "metadata": {},
   "source": [
    "## Query the database"
   ]
  },
  {
   "cell_type": "code",
   "execution_count": null,
   "id": "62d40123-c7cd-4dc6-9f7e-8e2ac29fd5c5",
   "metadata": {},
   "outputs": [],
   "source": [
    "chrom_data = get_chrom_duckdb(\"../demo_data/180205_Poo_TruePoo_Full1.duckdb\", 118.0865, 10)\n",
    "plt.plot(chrom_data[\"rt\"], chrom_data[\"int\"])"
   ]
  },
  {
   "cell_type": "code",
   "execution_count": null,
   "id": "d3acc2c0-7bc7-4673-8b51-025475a9fade",
   "metadata": {},
   "outputs": [],
   "source": [
    "spec_data = get_spec_duckdb(\"../demo_data/180205_Poo_TruePoo_Full1.duckdb\", 1)\n",
    "plt.stem(spec_data[\"mz\"], spec_data[\"int\"])"
   ]
  },
  {
   "cell_type": "code",
   "execution_count": null,
   "id": "4452deef-a896-4ec5-ac94-af532905fff2",
   "metadata": {},
   "outputs": [],
   "source": [
    "rtrange_data = get_rtrange_duckdb('../demo_data/180205_Poo_TruePoo_Full1.duckdb', 6.5, 8)\n",
    "plt.scatter(rtrange_data[\"rt\"], rtrange_data[\"int\"])"
   ]
  },
  {
   "cell_type": "markdown",
   "id": "ca6f7989-4412-42ac-8c48-42da7ade2022",
   "metadata": {},
   "source": [
    "## Comparison to SQLite"
   ]
  },
  {
   "cell_type": "code",
   "execution_count": null,
   "id": "4a142187-aa72-433d-9144-5ffa31696ea0",
   "metadata": {},
   "outputs": [],
   "source": [
    "import timeit"
   ]
  },
  {
   "cell_type": "code",
   "execution_count": null,
   "id": "2e0be3fc-a626-4342-adb5-db0f24280587",
   "metadata": {},
   "outputs": [],
   "source": [
    "sqlite_spec = timeit.repeat('get_spec_sqlite(\"../demo_data/180205_Poo_TruePoo_Full1.sqlite\", 1)', globals=globals(), number=1, repeat=10)\n",
    "duckdb_spec = timeit.repeat('get_spec_duckdb(\"../demo_data/180205_Poo_TruePoo_Full1.duckdb\", 1)', globals=globals(), number=1, repeat=10)\n",
    "plt.boxplot([sqlite_spec, duckdb_spec], tick_labels=[\"sqlite\", \"duckdb\"])\n",
    "plt.axhline(y=0, color=\"k\")\n",
    "plt.show()"
   ]
  },
  {
   "cell_type": "code",
   "execution_count": null,
   "id": "e690c03c-a1e7-4410-8d2e-2c6ecdb2993c",
   "metadata": {},
   "outputs": [],
   "source": [
    "sqlite_chrom = timeit.repeat('get_chrom_sqlite(\"../demo_data/180205_Poo_TruePoo_Full1.sqlite\", 118.0865, 10)', globals=globals(), number=1, repeat=10)\n",
    "duckdb_chrom = timeit.repeat('get_chrom_duckdb(\"../demo_data/180205_Poo_TruePoo_Full1.duckdb\", 118.0865, 10)', globals=globals(), number=1, repeat=10)\n",
    "plt.boxplot([sqlite_chrom, duckdb_chrom], tick_labels=[\"sqlite\", \"duckdb\"])\n",
    "plt.axhline(y=0, color=\"k\")\n",
    "plt.show()"
   ]
  },
  {
   "cell_type": "code",
   "execution_count": null,
   "id": "76b45313-1329-4cf5-8240-6feff83f7774",
   "metadata": {},
   "outputs": [],
   "source": [
    "sqlite_rtrange = timeit.repeat('get_rtrange_sqlite(\"../demo_data/180205_Poo_TruePoo_Full1.sqlite\", 6.5, 8)', globals=globals(), number=1, repeat=10)\n",
    "duckdb_rtrange = timeit.repeat('get_rtrange_duckdb(\"../demo_data/180205_Poo_TruePoo_Full1.duckdb\", 6.5, 8)', globals=globals(), number=1, repeat=10)\n",
    "plt.boxplot([sqlite_rtrange, duckdb_rtrange], tick_labels=[\"sqlite\", \"duckdb\"])\n",
    "plt.axhline(y=0, color=\"k\")\n",
    "plt.show()"
   ]
  },
  {
   "cell_type": "markdown",
   "id": "82f68c4a-b86f-45e8-88c6-0671bcb44ad9",
   "metadata": {},
   "source": [
    "## Improvements from ordering the MS1 table before writing to DuckDB?"
   ]
  },
  {
   "cell_type": "code",
   "execution_count": null,
   "id": "ab100977-dc90-4272-bdaa-a7942ae9cd34",
   "metadata": {},
   "outputs": [],
   "source": [
    "print(datetime.datetime.now())\n",
    "turn_mzml_duckdb(\"../demo_data/180205_Poo_TruePoo_Full1.mzML\", \n",
    "                 \"../demo_data/180205_Poo_TruePoo_Full1.ord_duckdb\", \n",
    "                 ordered=True)\n",
    "print(datetime.datetime.now())"
   ]
  },
  {
   "cell_type": "code",
   "execution_count": null,
   "id": "b284b21d-6673-401e-973d-4080d1700318",
   "metadata": {},
   "outputs": [],
   "source": [
    "sqlite_spec = timeit.repeat('get_spec_sqlite(\"../demo_data/180205_Poo_TruePoo_Full1.sqlite\", 1)', globals=globals(), number=1, repeat=10)\n",
    "duckdb_spec = timeit.repeat('get_spec_duckdb(\"../demo_data/180205_Poo_TruePoo_Full1.duckdb\", 1)', globals=globals(), number=1, repeat=10)\n",
    "ord_duckdb_spec = timeit.repeat('get_spec_duckdb(\"../demo_data/180205_Poo_TruePoo_Full1.ord_duckdb\", 1)', globals=globals(), number=1, repeat=10)\n",
    "plt.boxplot([sqlite_spec, duckdb_spec, ord_duckdb_spec], tick_labels=[\"sqlite\", \"duckdb\", \"ordered_duckdb\"])\n",
    "plt.axhline(y=0, color=\"k\")\n",
    "plt.show()"
   ]
  },
  {
   "cell_type": "code",
   "execution_count": null,
   "id": "1fb59b81-02b9-485d-9d2e-d1b3b9bed7fe",
   "metadata": {},
   "outputs": [],
   "source": [
    "sqlite_chrom = timeit.repeat('get_spec_sqlite(\"../demo_data/180205_Poo_TruePoo_Full1.sqlite\", 118.0865, 10)', globals=globals(), number=1, repeat=10)\n",
    "duckdb_chrom = timeit.repeat('get_spec_duckdb(\"../demo_data/180205_Poo_TruePoo_Full1.duckdb\", 118.0865, 10)', globals=globals(), number=1, repeat=10)\n",
    "ord_duckdb_chrom = timeit.repeat('get_spec_duckdb(\"../demo_data/180205_Poo_TruePoo_Full1.ord_duckdb\", 118.0865, 10)', globals=globals(), number=1, repeat=10)\n",
    "plt.boxplot([sqlite_chrom, duckdb_chrom, ord_duckdb_chrom], tick_labels=[\"sqlite\", \"duckdb\", \"ordered_duckdb\"])\n",
    "plt.axhline(y=0, color=\"k\")\n",
    "plt.show()"
   ]
  },
  {
   "cell_type": "code",
   "execution_count": null,
   "id": "18079a52-1d11-452e-9190-c3b562f8dce9",
   "metadata": {},
   "outputs": [],
   "source": [
    "sqlite_rtrange = timeit.repeat('get_rtrange_sqlite(\"../demo_data/180205_Poo_TruePoo_Full1.sqlite\", 6.5, 8)', globals=globals(), number=1, repeat=10)\n",
    "duckdb_rtrange = timeit.repeat('get_rtrange_duckdb(\"../demo_data/180205_Poo_TruePoo_Full1.duckdb\", 6.5, 8)', globals=globals(), number=1, repeat=10)\n",
    "ord_duckdb_rtrange = timeit.repeat('get_rtrange_duckdb(\"../demo_data/180205_Poo_TruePoo_Full1.ord_duckdb\", 6.5, 8)', globals=globals(), number=1, repeat=10)\n",
    "plt.boxplot([sqlite_rtrange, duckdb_rtrange, ord_duckdb_rtrange], tick_labels=[\"sqlite\", \"duckdb\", \"ordered_duckdb\"])\n",
    "plt.axhline(y=0, color=\"k\")\n",
    "plt.show()"
   ]
  }
 ],
 "metadata": {
  "kernelspec": {
   "display_name": "Python 3 (ipykernel)",
   "language": "python",
   "name": "python3"
  },
  "language_info": {
   "codemirror_mode": {
    "name": "ipython",
    "version": 3
   },
   "file_extension": ".py",
   "mimetype": "text/x-python",
   "name": "python",
   "nbconvert_exporter": "python",
   "pygments_lexer": "ipython3",
   "version": "3.12.2"
  }
 },
 "nbformat": 4,
 "nbformat_minor": 5
}
