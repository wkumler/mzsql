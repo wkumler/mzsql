{
 "cells": [
  {
   "cell_type": "code",
   "execution_count": null,
   "id": "250d4f83-4a17-4d4d-9e26-356c1285cd44",
   "metadata": {},
   "outputs": [],
   "source": [
    "import numpy as np\n",
    "import pandas as pd\n",
    "import matplotlib.pyplot as plt\n",
    "plt.rcParams[\"figure.figsize\"] = (10, 3)  # (width, height) in inches\n",
    "from mzsql import *"
   ]
  },
  {
   "cell_type": "code",
   "execution_count": 1,
   "id": "ca6d7d05-d8ae-4ea1-bcbb-d79a5278b02f",
   "metadata": {},
   "outputs": [],
   "source": [
    "import mzapy\n",
    "import h5py"
   ]
  },
  {
   "cell_type": "code",
   "execution_count": 2,
   "id": "1109b059-f522-48dc-8e32-6f1610402cc9",
   "metadata": {},
   "outputs": [
    {
     "name": "stderr",
     "output_type": "stream",
     "text": [
      "Exception in thread Thread-7 (_io_worker_func):\n",
      "Traceback (most recent call last):\n",
      "  File \"/home/wkumler/miniconda3/envs/mzsql/lib/python3.12/threading.py\", line 1073, in _bootstrap_inner\n",
      "    self.run()\n",
      "  File \"/home/wkumler/miniconda3/envs/mzsql/lib/python3.12/site-packages/ipykernel/ipkernel.py\", line 766, in run_closure\n",
      "    _threading_Thread_run(self)\n",
      "  File \"/home/wkumler/miniconda3/envs/mzsql/lib/python3.12/threading.py\", line 1010, in run\n",
      "    self._target(*self._args, **self._kwargs)\n",
      "  File \"/home/wkumler/miniconda3/envs/mzsql/lib/python3.12/site-packages/mzapy/__init__.py\", line 199, in _io_worker_func\n",
      "    data = self._read_scan_mzbins(scan_idx, bin_idx_min, bin_idx_max)\n",
      "           ^^^^^^^^^^^^^^^^^^^^^^^^^^^^^^^^^^^^^^^^^^^^^^^^^^^^^^^^^^\n",
      "  File \"/home/wkumler/miniconda3/envs/mzsql/lib/python3.12/site-packages/mzapy/__init__.py\", line 395, in _read_scan_mzbins\n",
      "    return self.h5[full_index][()]\n",
      "           ~~~~~~~^^^^^^^^^^^^\n",
      "  File \"h5py/_objects.pyx\", line 54, in h5py._objects.with_phil.wrapper\n",
      "  File \"h5py/_objects.pyx\", line 55, in h5py._objects.with_phil.wrapper\n",
      "  File \"/home/wkumler/miniconda3/envs/mzsql/lib/python3.12/site-packages/h5py/_hl/group.py\", line 357, in __getitem__\n",
      "Exception in thread Thread-9 (_io_worker_func):\n",
      "Traceback (most recent call last):\n",
      "  File \"/home/wkumler/miniconda3/envs/mzsql/lib/python3.12/threading.py\", line 1073, in _bootstrap_inner\n",
      "    oid = h5o.open(self.id, self._e(name), lapl=self._lapl)\n",
      "          ^^^^^^^^^^^^^^^^^^^^^^^^^^^^^^^^^^^^^^^^^^^^^^^^^\n",
      "  File \"h5py/_objects.pyx\", line 54, in h5py._objects.with_phil.wrapper\n",
      "    self.run()\n",
      "  File \"/home/wkumler/miniconda3/envs/mzsql/lib/python3.12/site-packages/ipykernel/ipkernel.py\", line 766, in run_closure\n",
      "  File \"h5py/_objects.pyx\", line 55, in h5py._objects.with_phil.wrapper\n",
      "    _threading_Thread_run(self)\n",
      "  File \"/home/wkumler/miniconda3/envs/mzsql/lib/python3.12/threading.py\", line 1010, in run\n",
      "    self._target(*self._args, **self._kwargs)\n",
      "  File \"/home/wkumler/miniconda3/envs/mzsql/lib/python3.12/site-packages/mzapy/__init__.py\", line 199, in _io_worker_func\n",
      "Exception in thread Thread-10 (_io_worker_func):\n",
      "Traceback (most recent call last):\n",
      "  File \"/home/wkumler/miniconda3/envs/mzsql/lib/python3.12/threading.py\", line 1073, in _bootstrap_inner\n",
      "    self.run()\n",
      "  File \"/home/wkumler/miniconda3/envs/mzsql/lib/python3.12/site-packages/ipykernel/ipkernel.py\", line 766, in run_closure\n",
      "    data = self._read_scan_mzbins(scan_idx, bin_idx_min, bin_idx_max)\n",
      "           ^^^^^^^^^^^^^^^^^^^^^^^^^^^^^^^^^^^^^^^^^^^^^^^^^^^^^^^^^^\n",
      "  File \"/home/wkumler/miniconda3/envs/mzsql/lib/python3.12/site-packages/mzapy/__init__.py\", line 395, in _read_scan_mzbins\n",
      "  File \"h5py/h5o.pyx\", line 257, in h5py.h5o.open\n",
      "    return self.h5[full_index][()]\n",
      "           ~~~~~~~^^^^^^^^^^^^\n",
      "  File \"h5py/_objects.pyx\", line 54, in h5py._objects.with_phil.wrapper\n",
      "KeyError: 'Unable to synchronously open object (component not found)'\n",
      "    _threading_Thread_run(self)\n",
      "  File \"/home/wkumler/miniconda3/envs/mzsql/lib/python3.12/threading.py\", line 1010, in run\n",
      "  File \"h5py/_objects.pyx\", line 55, in h5py._objects.with_phil.wrapper\n",
      "Exception in thread Thread-6 (_io_worker_func):\n",
      "Traceback (most recent call last):\n",
      "  File \"/home/wkumler/miniconda3/envs/mzsql/lib/python3.12/threading.py\", line 1073, in _bootstrap_inner\n",
      "    self._target(*self._args, **self._kwargs)\n",
      "  File \"/home/wkumler/miniconda3/envs/mzsql/lib/python3.12/site-packages/mzapy/__init__.py\", line 199, in _io_worker_func\n",
      "  File \"/home/wkumler/miniconda3/envs/mzsql/lib/python3.12/site-packages/h5py/_hl/group.py\", line 357, in __getitem__\n",
      "    self.run()\n",
      "  File \"/home/wkumler/miniconda3/envs/mzsql/lib/python3.12/site-packages/ipykernel/ipkernel.py\", line 766, in run_closure\n",
      "    oid = h5o.open(self.id, self._e(name), lapl=self._lapl)\n",
      "          ^^^^^^^^^^^^^^^^^^^^^^^^^^^^^^^^^^^^^^^^^^^^^^^^^\n",
      "  File \"h5py/_objects.pyx\", line 54, in h5py._objects.with_phil.wrapper\n",
      "  File \"h5py/_objects.pyx\", line 55, in h5py._objects.with_phil.wrapper\n",
      "    _threading_Thread_run(self)\n",
      "  File \"/home/wkumler/miniconda3/envs/mzsql/lib/python3.12/threading.py\", line 1010, in run\n",
      "  File \"h5py/h5o.pyx\", line 257, in h5py.h5o.open\n",
      "    self._target(*self._args, **self._kwargs)\n",
      "  File \"/home/wkumler/miniconda3/envs/mzsql/lib/python3.12/site-packages/mzapy/__init__.py\", line 199, in _io_worker_func\n",
      "    data = self._read_scan_mzbins(scan_idx, bin_idx_min, bin_idx_max)\n",
      "           ^^^^^^^^^^^^^^^^^^^^^^^^^^^^^^^^^^^^^^^^^^^^^^^^^^^^^^^^^^\n",
      "  File \"/home/wkumler/miniconda3/envs/mzsql/lib/python3.12/site-packages/mzapy/__init__.py\", line 395, in _read_scan_mzbins\n",
      "KeyError: 'Unable to synchronously open object (component not found)'\n",
      "    data = self._read_scan_mzbins(scan_idx, bin_idx_min, bin_idx_max)\n",
      "           ^^^^^^^^^^^^^^^^^^^^^^^^^^^^^^^^^^^^^^^^^^^^^^^^^^^^^^^^^^\n",
      "  File \"/home/wkumler/miniconda3/envs/mzsql/lib/python3.12/site-packages/mzapy/__init__.py\", line 395, in _read_scan_mzbins\n",
      "    return self.h5[full_index][()]\n",
      "           ~~~~~~~^^^^^^^^^^^^\n",
      "  File \"h5py/_objects.pyx\", line 54, in h5py._objects.with_phil.wrapper\n",
      "  File \"h5py/_objects.pyx\", line 55, in h5py._objects.with_phil.wrapper\n",
      "  File \"/home/wkumler/miniconda3/envs/mzsql/lib/python3.12/site-packages/h5py/_hl/group.py\", line 357, in __getitem__\n",
      "    return self.h5[full_index][()]\n",
      "           ~~~~~~~^^^^^^^^^^^^\n",
      "  File \"h5py/_objects.pyx\", line 54, in h5py._objects.with_phil.wrapper\n",
      "    oid = h5o.open(self.id, self._e(name), lapl=self._lapl)\n",
      "          ^^^^^^^^^^^^^^^^^^^^^^^^^^^^^^^^^^^^^^^^^^^^^^^^^\n",
      "  File \"h5py/_objects.pyx\", line 54, in h5py._objects.with_phil.wrapper\n",
      "  File \"h5py/_objects.pyx\", line 55, in h5py._objects.with_phil.wrapper\n",
      "  File \"h5py/h5o.pyx\", line 257, in h5py.h5o.open\n",
      "  File \"h5py/_objects.pyx\", line 55, in h5py._objects.with_phil.wrapper\n",
      "  File \"/home/wkumler/miniconda3/envs/mzsql/lib/python3.12/site-packages/h5py/_hl/group.py\", line 357, in __getitem__\n",
      "    oid = h5o.open(self.id, self._e(name), lapl=self._lapl)\n",
      "          ^^^^^^^^^^^^^^^^^^^^^^^^^^^^^^^^^^^^^^^^^^^^^^^^^\n",
      "  File \"h5py/_objects.pyx\", line 54, in h5py._objects.with_phil.wrapper\n",
      "  File \"h5py/_objects.pyx\", line 55, in h5py._objects.with_phil.wrapper\n",
      "  File \"h5py/h5o.pyx\", line 257, in h5py.h5o.open\n",
      "KeyError: 'Unable to synchronously open object (component not found)'\n",
      "KeyError: 'Unable to synchronously open object (component not found)'\n",
      "Exception in thread Thread-8 (_io_worker_func):\n",
      "Traceback (most recent call last):\n",
      "  File \"/home/wkumler/miniconda3/envs/mzsql/lib/python3.12/threading.py\", line 1073, in _bootstrap_inner\n",
      "    self.run()\n",
      "  File \"/home/wkumler/miniconda3/envs/mzsql/lib/python3.12/site-packages/ipykernel/ipkernel.py\", line 766, in run_closure\n",
      "Exception in thread Thread-11 (_io_worker_func):\n",
      "Traceback (most recent call last):\n",
      "  File \"/home/wkumler/miniconda3/envs/mzsql/lib/python3.12/threading.py\", line 1073, in _bootstrap_inner\n",
      "    _threading_Thread_run(self)\n",
      "  File \"/home/wkumler/miniconda3/envs/mzsql/lib/python3.12/threading.py\", line 1010, in run\n",
      "    self.run()\n",
      "  File \"/home/wkumler/miniconda3/envs/mzsql/lib/python3.12/site-packages/ipykernel/ipkernel.py\", line 766, in run_closure\n",
      "    _threading_Thread_run(self)\n",
      "  File \"/home/wkumler/miniconda3/envs/mzsql/lib/python3.12/threading.py\", line 1010, in run\n",
      "    self._target(*self._args, **self._kwargs)\n",
      "  File \"/home/wkumler/miniconda3/envs/mzsql/lib/python3.12/site-packages/mzapy/__init__.py\", line 199, in _io_worker_func\n",
      "    self._target(*self._args, **self._kwargs)\n",
      "  File \"/home/wkumler/miniconda3/envs/mzsql/lib/python3.12/site-packages/mzapy/__init__.py\", line 199, in _io_worker_func\n",
      "    data = self._read_scan_mzbins(scan_idx, bin_idx_min, bin_idx_max)\n",
      "           ^^^^^^^^^^^^^^^^^^^^^^^^^^^^^^^^^^^^^^^^^^^^^^^^^^^^^^^^^^\n",
      "  File \"/home/wkumler/miniconda3/envs/mzsql/lib/python3.12/site-packages/mzapy/__init__.py\", line 395, in _read_scan_mzbins\n",
      "    data = self._read_scan_mzbins(scan_idx, bin_idx_min, bin_idx_max)\n",
      "           ^^^^^^^^^^^^^^^^^^^^^^^^^^^^^^^^^^^^^^^^^^^^^^^^^^^^^^^^^^\n",
      "  File \"/home/wkumler/miniconda3/envs/mzsql/lib/python3.12/site-packages/mzapy/__init__.py\", line 395, in _read_scan_mzbins\n",
      "    return self.h5[full_index][()]\n",
      "           ~~~~~~~^^^^^^^^^^^^\n",
      "  File \"h5py/_objects.pyx\", line 54, in h5py._objects.with_phil.wrapper\n",
      "  File \"h5py/_objects.pyx\", line 55, in h5py._objects.with_phil.wrapper\n",
      "    return self.h5[full_index][()]\n",
      "           ~~~~~~~^^^^^^^^^^^^\n",
      "  File \"h5py/_objects.pyx\", line 54, in h5py._objects.with_phil.wrapper\n",
      "  File \"h5py/_objects.pyx\", line 55, in h5py._objects.with_phil.wrapper\n",
      "  File \"/home/wkumler/miniconda3/envs/mzsql/lib/python3.12/site-packages/h5py/_hl/group.py\", line 357, in __getitem__\n",
      "  File \"/home/wkumler/miniconda3/envs/mzsql/lib/python3.12/site-packages/h5py/_hl/group.py\", line 357, in __getitem__\n",
      "    oid = h5o.open(self.id, self._e(name), lapl=self._lapl)\n",
      "          ^^^^^^^^^^^^^^^^^^^^^^^^^^^^^^^^^^^^^^^^^^^^^^^^^\n",
      "  File \"h5py/_objects.pyx\", line 54, in h5py._objects.with_phil.wrapper\n",
      "  File \"h5py/_objects.pyx\", line 55, in h5py._objects.with_phil.wrapper\n",
      "    oid = h5o.open(self.id, self._e(name), lapl=self._lapl)\n",
      "          ^^^^^^^^^^^^^^^^^^^^^^^^^^^^^^^^^^^^^^^^^^^^^^^^^\n",
      "  File \"h5py/_objects.pyx\", line 54, in h5py._objects.with_phil.wrapper\n",
      "  File \"h5py/_objects.pyx\", line 55, in h5py._objects.with_phil.wrapper\n",
      "  File \"h5py/h5o.pyx\", line 257, in h5py.h5o.open\n",
      "  File \"h5py/h5o.pyx\", line 257, in h5py.h5o.open\n",
      "KeyError: 'Unable to synchronously open object (component not found)'\n",
      "KeyError: 'Unable to synchronously open object (component not found)'\n",
      "Exception in thread Thread-5 (_io_worker_func):\n",
      "Traceback (most recent call last):\n",
      "  File \"/home/wkumler/miniconda3/envs/mzsql/lib/python3.12/threading.py\", line 1073, in _bootstrap_inner\n",
      "    self.run()\n",
      "  File \"/home/wkumler/miniconda3/envs/mzsql/lib/python3.12/site-packages/ipykernel/ipkernel.py\", line 766, in run_closure\n",
      "    _threading_Thread_run(self)\n",
      "  File \"/home/wkumler/miniconda3/envs/mzsql/lib/python3.12/threading.py\", line 1010, in run\n",
      "    self._target(*self._args, **self._kwargs)\n",
      "  File \"/home/wkumler/miniconda3/envs/mzsql/lib/python3.12/site-packages/mzapy/__init__.py\", line 199, in _io_worker_func\n",
      "    data = self._read_scan_mzbins(scan_idx, bin_idx_min, bin_idx_max)\n",
      "           ^^^^^^^^^^^^^^^^^^^^^^^^^^^^^^^^^^^^^^^^^^^^^^^^^^^^^^^^^^\n",
      "  File \"/home/wkumler/miniconda3/envs/mzsql/lib/python3.12/site-packages/mzapy/__init__.py\", line 395, in _read_scan_mzbins\n",
      "    return self.h5[full_index][()]\n",
      "           ~~~~~~~^^^^^^^^^^^^\n",
      "  File \"h5py/_objects.pyx\", line 54, in h5py._objects.with_phil.wrapper\n",
      "  File \"h5py/_objects.pyx\", line 55, in h5py._objects.with_phil.wrapper\n",
      "  File \"/home/wkumler/miniconda3/envs/mzsql/lib/python3.12/site-packages/h5py/_hl/group.py\", line 357, in __getitem__\n",
      "    oid = h5o.open(self.id, self._e(name), lapl=self._lapl)\n",
      "          ^^^^^^^^^^^^^^^^^^^^^^^^^^^^^^^^^^^^^^^^^^^^^^^^^\n",
      "  File \"h5py/_objects.pyx\", line 54, in h5py._objects.with_phil.wrapper\n",
      "  File \"h5py/_objects.pyx\", line 55, in h5py._objects.with_phil.wrapper\n",
      "  File \"h5py/h5o.pyx\", line 257, in h5py.h5o.open\n",
      "KeyError: 'Unable to synchronously open object (component not found)'\n",
      "Exception in thread Thread-12 (_io_worker_func):\n",
      "Traceback (most recent call last):\n",
      "  File \"/home/wkumler/miniconda3/envs/mzsql/lib/python3.12/threading.py\", line 1073, in _bootstrap_inner\n",
      "    self.run()\n",
      "  File \"/home/wkumler/miniconda3/envs/mzsql/lib/python3.12/site-packages/ipykernel/ipkernel.py\", line 766, in run_closure\n",
      "    _threading_Thread_run(self)\n",
      "  File \"/home/wkumler/miniconda3/envs/mzsql/lib/python3.12/threading.py\", line 1010, in run\n",
      "    self._target(*self._args, **self._kwargs)\n",
      "  File \"/home/wkumler/miniconda3/envs/mzsql/lib/python3.12/site-packages/mzapy/__init__.py\", line 199, in _io_worker_func\n",
      "    data = self._read_scan_mzbins(scan_idx, bin_idx_min, bin_idx_max)\n",
      "           ^^^^^^^^^^^^^^^^^^^^^^^^^^^^^^^^^^^^^^^^^^^^^^^^^^^^^^^^^^\n",
      "  File \"/home/wkumler/miniconda3/envs/mzsql/lib/python3.12/site-packages/mzapy/__init__.py\", line 395, in _read_scan_mzbins\n",
      "    return self.h5[full_index][()]\n",
      "           ~~~~~~~^^^^^^^^^^^^\n",
      "  File \"h5py/_objects.pyx\", line 54, in h5py._objects.with_phil.wrapper\n",
      "  File \"h5py/_objects.pyx\", line 55, in h5py._objects.with_phil.wrapper\n",
      "  File \"/home/wkumler/miniconda3/envs/mzsql/lib/python3.12/site-packages/h5py/_hl/group.py\", line 357, in __getitem__\n",
      "    oid = h5o.open(self.id, self._e(name), lapl=self._lapl)\n",
      "          ^^^^^^^^^^^^^^^^^^^^^^^^^^^^^^^^^^^^^^^^^^^^^^^^^\n",
      "  File \"h5py/_objects.pyx\", line 54, in h5py._objects.with_phil.wrapper\n",
      "  File \"h5py/_objects.pyx\", line 55, in h5py._objects.with_phil.wrapper\n",
      "  File \"h5py/h5o.pyx\", line 257, in h5py.h5o.open\n",
      "KeyError: 'Unable to synchronously open object (component not found)'\n"
     ]
    }
   ],
   "source": [
    "mza=mzapy.MZA(\"../demo_data/180205_Poo_TruePoo_Full1.mza\")"
   ]
  },
  {
   "cell_type": "code",
   "execution_count": 3,
   "id": "fd49628d-ab5a-4a25-a62f-eca4d03cc25b",
   "metadata": {},
   "outputs": [
    {
     "data": {
      "text/plain": [
       "<mzapy.MZA at 0x7f12c5068a40>"
      ]
     },
     "execution_count": 3,
     "metadata": {},
     "output_type": "execute_result"
    }
   ],
   "source": [
    "mza"
   ]
  },
  {
   "cell_type": "code",
   "execution_count": 4,
   "id": "3ff874c8-2f20-4f7e-9663-675d9c34da1a",
   "metadata": {},
   "outputs": [
    {
     "name": "stdout",
     "output_type": "stream",
     "text": [
      "0.0054016921\n",
      "21.620393\n"
     ]
    }
   ],
   "source": [
    "print(mza.min_rt)\n",
    "print(mza.max_rt)"
   ]
  },
  {
   "cell_type": "code",
   "execution_count": null,
   "id": "1e9d3c23-0bf0-4b4e-9134-b62bca147abc",
   "metadata": {},
   "outputs": [],
   "source": [
    "xic_rt, xic_i = mza.collect_xic_arrays_by_mz(118.08, 118.10)"
   ]
  },
  {
   "cell_type": "code",
   "execution_count": null,
   "id": "b7d5284c-39b4-46c8-a752-306656d3ab84",
   "metadata": {},
   "outputs": [],
   "source": [
    "plt.plot(xic_rt, xic_i)"
   ]
  },
  {
   "cell_type": "code",
   "execution_count": null,
   "id": "68d42366-acb2-406c-9357-97be8ba4e46f",
   "metadata": {},
   "outputs": [],
   "source": [
    "mza.collect_ms1_arrays_by_rt(0, 0.01)"
   ]
  }
 ],
 "metadata": {
  "kernelspec": {
   "display_name": "Python 3 (ipykernel)",
   "language": "python",
   "name": "python3"
  },
  "language_info": {
   "codemirror_mode": {
    "name": "ipython",
    "version": 3
   },
   "file_extension": ".py",
   "mimetype": "text/x-python",
   "name": "python",
   "nbconvert_exporter": "python",
   "pygments_lexer": "ipython3",
   "version": "3.12.2"
  }
 },
 "nbformat": 4,
 "nbformat_minor": 5
}
